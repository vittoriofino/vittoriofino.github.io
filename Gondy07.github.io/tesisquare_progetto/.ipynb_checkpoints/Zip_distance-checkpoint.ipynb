{
 "cells": [
  {
   "cell_type": "markdown",
   "id": "3d6d24a7",
   "metadata": {},
   "source": [
    "## Getting a zip distance matrix for easy lookup"
   ]
  },
  {
   "cell_type": "code",
   "execution_count": 1,
   "id": "7950dd30",
   "metadata": {},
   "outputs": [
    {
     "data": {
      "application/javascript": [
       "IPython.notebook.set_autosave_interval(120000)"
      ]
     },
     "metadata": {},
     "output_type": "display_data"
    },
    {
     "name": "stdout",
     "output_type": "stream",
     "text": [
      "Autosaving every 120 seconds\n"
     ]
    }
   ],
   "source": [
    "#Necessary Imports \n",
    "%autosave 120\n",
    "import os\n",
    "import pandas as pd\n",
    "import numpy as np\n",
    "import mpu\n",
    "import json\n",
    "import time\n",
    "import pickle\n",
    "import warnings\n",
    "warnings.filterwarnings(\"ignore\")\n",
    "\n",
    "# Helper functions\n",
    "def walk_up_folder(path, depth=1):\n",
    "    \"\"\"\n",
    "    Helper method to navigate the file system and get to the file location\n",
    "    \"\"\"\n",
    "    _cur_depth = 1\n",
    "    while _cur_depth < depth:\n",
    "        path = os.path.dirname(path)\n",
    "        _cur_depth += 1\n",
    "    return path"
   ]
  },
  {
   "cell_type": "code",
   "execution_count": 30,
   "id": "4fbab96b",
   "metadata": {},
   "outputs": [],
   "source": [
    "from IPython.core.interactiveshell import InteractiveShell\n",
    "InteractiveShell.ast_node_interactivity = \"all\""
   ]
  },
  {
   "cell_type": "markdown",
   "id": "c36ebd46",
   "metadata": {},
   "source": [
    "## Loading raw data\n",
    "\n",
    "Source - https://github.com/symerio/postal-codes-data/blob/master/data/geonames/US.txt \n",
    "\n",
    "**Geocoding format**\n",
    "The result of a geo-localistion query is a pandas.DataFrame with the following columns,\n",
    "\n",
    "country_code: iso country code, 2 characters  \n",
    "postal_code : postal code  \n",
    "place_name : place name (e.g. town, city etc)  \n",
    "state_name : 1. order subdivision (state)  \n",
    "state_code : 1. order subdivision (state)  \n",
    "county_name : 2. order subdivision (county/province)  \n",
    "county_code : 2. order subdivision (county/province)  \n",
    "community_name : 3. order subdivision (community)  \n",
    "community_code : 3. order subdivision (community)  \n",
    "latitude : estimated latitude (wgs84)  \n",
    "longitude : estimated longitude (wgs84)  \n",
    "accuracy : accuracy of lat/lng from 1=estimated to 6=centroid  "
   ]
  },
  {
   "cell_type": "code",
   "execution_count": 2,
   "id": "28a698f3",
   "metadata": {},
   "outputs": [],
   "source": [
    "# Load USZips data\n",
    "zip_df = pd.read_csv(os.path.join(walk_up_folder(os.getcwd(), 3), \"Data/US_zips.txt\"),sep='\\t',header=None,\n",
    "                     names=[\"country_code\",\"postal_code\",\"place_name\",\"state_name\",\"state_code\",\n",
    "                            \"county_name\",\"county_code\",\"community_name\",\"community_code\",\n",
    "                            \"latitude\",\"longitude\",\"accuracy\"])\n",
    "\n",
    "# Dropping unnecessary columns \n",
    "zip_df.drop([\"country_code\",\"place_name\",\"state_name\",\"county_name\",\"county_code\",\"community_name\",\"community_code\"],axis=1,inplace=True)\n"
   ]
  },
  {
   "cell_type": "code",
   "execution_count": 3,
   "id": "80af06c7",
   "metadata": {},
   "outputs": [
    {
     "data": {
      "text/html": [
       "<div>\n",
       "<style scoped>\n",
       "    .dataframe tbody tr th:only-of-type {\n",
       "        vertical-align: middle;\n",
       "    }\n",
       "\n",
       "    .dataframe tbody tr th {\n",
       "        vertical-align: top;\n",
       "    }\n",
       "\n",
       "    .dataframe thead th {\n",
       "        text-align: right;\n",
       "    }\n",
       "</style>\n",
       "<table border=\"1\" class=\"dataframe\">\n",
       "  <thead>\n",
       "    <tr style=\"text-align: right;\">\n",
       "      <th></th>\n",
       "      <th>postal_code</th>\n",
       "      <th>state_code</th>\n",
       "      <th>latitude</th>\n",
       "      <th>longitude</th>\n",
       "      <th>accuracy</th>\n",
       "    </tr>\n",
       "  </thead>\n",
       "  <tbody>\n",
       "    <tr>\n",
       "      <th>0</th>\n",
       "      <td>99553</td>\n",
       "      <td>AK</td>\n",
       "      <td>54.1430</td>\n",
       "      <td>-165.7854</td>\n",
       "      <td>1.0</td>\n",
       "    </tr>\n",
       "    <tr>\n",
       "      <th>1</th>\n",
       "      <td>99571</td>\n",
       "      <td>AK</td>\n",
       "      <td>55.1858</td>\n",
       "      <td>-162.7211</td>\n",
       "      <td>1.0</td>\n",
       "    </tr>\n",
       "    <tr>\n",
       "      <th>2</th>\n",
       "      <td>99583</td>\n",
       "      <td>AK</td>\n",
       "      <td>54.8542</td>\n",
       "      <td>-163.4113</td>\n",
       "      <td>1.0</td>\n",
       "    </tr>\n",
       "    <tr>\n",
       "      <th>3</th>\n",
       "      <td>99612</td>\n",
       "      <td>AK</td>\n",
       "      <td>55.0628</td>\n",
       "      <td>-162.3056</td>\n",
       "      <td>1.0</td>\n",
       "    </tr>\n",
       "    <tr>\n",
       "      <th>4</th>\n",
       "      <td>99661</td>\n",
       "      <td>AK</td>\n",
       "      <td>55.3192</td>\n",
       "      <td>-160.4914</td>\n",
       "      <td>1.0</td>\n",
       "    </tr>\n",
       "    <tr>\n",
       "      <th>...</th>\n",
       "      <td>...</td>\n",
       "      <td>...</td>\n",
       "      <td>...</td>\n",
       "      <td>...</td>\n",
       "      <td>...</td>\n",
       "    </tr>\n",
       "    <tr>\n",
       "      <th>41478</th>\n",
       "      <td>96558</td>\n",
       "      <td>NaN</td>\n",
       "      <td>19.7542</td>\n",
       "      <td>-155.5858</td>\n",
       "      <td>4.0</td>\n",
       "    </tr>\n",
       "    <tr>\n",
       "      <th>41479</th>\n",
       "      <td>96598</td>\n",
       "      <td>NaN</td>\n",
       "      <td>-89.9976</td>\n",
       "      <td>139.2729</td>\n",
       "      <td>NaN</td>\n",
       "    </tr>\n",
       "    <tr>\n",
       "      <th>41480</th>\n",
       "      <td>96599</td>\n",
       "      <td>NaN</td>\n",
       "      <td>-77.8460</td>\n",
       "      <td>166.6760</td>\n",
       "      <td>NaN</td>\n",
       "    </tr>\n",
       "    <tr>\n",
       "      <th>41481</th>\n",
       "      <td>96860</td>\n",
       "      <td>NaN</td>\n",
       "      <td>21.3448</td>\n",
       "      <td>-157.9774</td>\n",
       "      <td>4.0</td>\n",
       "    </tr>\n",
       "    <tr>\n",
       "      <th>41482</th>\n",
       "      <td>96863</td>\n",
       "      <td>NaN</td>\n",
       "      <td>21.4505</td>\n",
       "      <td>-157.7680</td>\n",
       "      <td>4.0</td>\n",
       "    </tr>\n",
       "  </tbody>\n",
       "</table>\n",
       "<p>41483 rows × 5 columns</p>\n",
       "</div>"
      ],
      "text/plain": [
       "       postal_code state_code  latitude  longitude  accuracy\n",
       "0            99553         AK   54.1430  -165.7854       1.0\n",
       "1            99571         AK   55.1858  -162.7211       1.0\n",
       "2            99583         AK   54.8542  -163.4113       1.0\n",
       "3            99612         AK   55.0628  -162.3056       1.0\n",
       "4            99661         AK   55.3192  -160.4914       1.0\n",
       "...            ...        ...       ...        ...       ...\n",
       "41478        96558        NaN   19.7542  -155.5858       4.0\n",
       "41479        96598        NaN  -89.9976   139.2729       NaN\n",
       "41480        96599        NaN  -77.8460   166.6760       NaN\n",
       "41481        96860        NaN   21.3448  -157.9774       4.0\n",
       "41482        96863        NaN   21.4505  -157.7680       4.0\n",
       "\n",
       "[41483 rows x 5 columns]"
      ]
     },
     "execution_count": 3,
     "metadata": {},
     "output_type": "execute_result"
    }
   ],
   "source": [
    "zip_df"
   ]
  },
  {
   "cell_type": "code",
   "execution_count": 4,
   "id": "d52ceb06",
   "metadata": {},
   "outputs": [
    {
     "data": {
      "text/plain": [
       "96863    2\n",
       "96860    2\n",
       "97114    1\n",
       "74577    1\n",
       "80722    1\n",
       "        ..\n",
       "54736    1\n",
       "50642    1\n",
       "62932    1\n",
       "58838    1\n",
       "67583    1\n",
       "Name: postal_code, Length: 41481, dtype: int64"
      ]
     },
     "execution_count": 4,
     "metadata": {},
     "output_type": "execute_result"
    }
   ],
   "source": [
    "(zip_df.postal_code.value_counts())"
   ]
  },
  {
   "cell_type": "code",
   "execution_count": 5,
   "id": "59846847",
   "metadata": {},
   "outputs": [
    {
     "data": {
      "text/html": [
       "<div>\n",
       "<style scoped>\n",
       "    .dataframe tbody tr th:only-of-type {\n",
       "        vertical-align: middle;\n",
       "    }\n",
       "\n",
       "    .dataframe tbody tr th {\n",
       "        vertical-align: top;\n",
       "    }\n",
       "\n",
       "    .dataframe thead th {\n",
       "        text-align: right;\n",
       "    }\n",
       "</style>\n",
       "<table border=\"1\" class=\"dataframe\">\n",
       "  <thead>\n",
       "    <tr style=\"text-align: right;\">\n",
       "      <th></th>\n",
       "      <th>postal_code</th>\n",
       "      <th>state_code</th>\n",
       "      <th>latitude</th>\n",
       "      <th>longitude</th>\n",
       "      <th>accuracy</th>\n",
       "    </tr>\n",
       "  </thead>\n",
       "  <tbody>\n",
       "    <tr>\n",
       "      <th>8879</th>\n",
       "      <td>96860</td>\n",
       "      <td>HI</td>\n",
       "      <td>21.3160</td>\n",
       "      <td>-157.8677</td>\n",
       "      <td>1.0</td>\n",
       "    </tr>\n",
       "    <tr>\n",
       "      <th>41481</th>\n",
       "      <td>96860</td>\n",
       "      <td>NaN</td>\n",
       "      <td>21.3448</td>\n",
       "      <td>-157.9774</td>\n",
       "      <td>4.0</td>\n",
       "    </tr>\n",
       "  </tbody>\n",
       "</table>\n",
       "</div>"
      ],
      "text/plain": [
       "       postal_code state_code  latitude  longitude  accuracy\n",
       "8879         96860         HI   21.3160  -157.8677       1.0\n",
       "41481        96860        NaN   21.3448  -157.9774       4.0"
      ]
     },
     "execution_count": 5,
     "metadata": {},
     "output_type": "execute_result"
    }
   ],
   "source": [
    "zip_df[zip_df.postal_code==96860]"
   ]
  },
  {
   "cell_type": "code",
   "execution_count": 6,
   "id": "701ea133",
   "metadata": {},
   "outputs": [],
   "source": [
    "zip_df.drop_duplicates(subset=[\"postal_code\"],keep='last',inplace=True)"
   ]
  },
  {
   "cell_type": "code",
   "execution_count": 7,
   "id": "b7b8147b",
   "metadata": {},
   "outputs": [],
   "source": [
    "zip_df[\"coord\"]=list(zip(zip_df[\"latitude\"],zip_df[\"longitude\"]))"
   ]
  },
  {
   "cell_type": "code",
   "execution_count": 8,
   "id": "236d85d5",
   "metadata": {},
   "outputs": [
    {
     "data": {
      "text/html": [
       "<div>\n",
       "<style scoped>\n",
       "    .dataframe tbody tr th:only-of-type {\n",
       "        vertical-align: middle;\n",
       "    }\n",
       "\n",
       "    .dataframe tbody tr th {\n",
       "        vertical-align: top;\n",
       "    }\n",
       "\n",
       "    .dataframe thead th {\n",
       "        text-align: right;\n",
       "    }\n",
       "</style>\n",
       "<table border=\"1\" class=\"dataframe\">\n",
       "  <thead>\n",
       "    <tr style=\"text-align: right;\">\n",
       "      <th></th>\n",
       "      <th>postal_code</th>\n",
       "      <th>state_code</th>\n",
       "      <th>latitude</th>\n",
       "      <th>longitude</th>\n",
       "      <th>accuracy</th>\n",
       "      <th>coord</th>\n",
       "    </tr>\n",
       "  </thead>\n",
       "  <tbody>\n",
       "    <tr>\n",
       "      <th>0</th>\n",
       "      <td>99553</td>\n",
       "      <td>AK</td>\n",
       "      <td>54.1430</td>\n",
       "      <td>-165.7854</td>\n",
       "      <td>1.0</td>\n",
       "      <td>(54.143, -165.7854)</td>\n",
       "    </tr>\n",
       "    <tr>\n",
       "      <th>1</th>\n",
       "      <td>99571</td>\n",
       "      <td>AK</td>\n",
       "      <td>55.1858</td>\n",
       "      <td>-162.7211</td>\n",
       "      <td>1.0</td>\n",
       "      <td>(55.1858, -162.7211)</td>\n",
       "    </tr>\n",
       "    <tr>\n",
       "      <th>2</th>\n",
       "      <td>99583</td>\n",
       "      <td>AK</td>\n",
       "      <td>54.8542</td>\n",
       "      <td>-163.4113</td>\n",
       "      <td>1.0</td>\n",
       "      <td>(54.8542, -163.4113)</td>\n",
       "    </tr>\n",
       "    <tr>\n",
       "      <th>3</th>\n",
       "      <td>99612</td>\n",
       "      <td>AK</td>\n",
       "      <td>55.0628</td>\n",
       "      <td>-162.3056</td>\n",
       "      <td>1.0</td>\n",
       "      <td>(55.0628, -162.3056)</td>\n",
       "    </tr>\n",
       "    <tr>\n",
       "      <th>4</th>\n",
       "      <td>99661</td>\n",
       "      <td>AK</td>\n",
       "      <td>55.3192</td>\n",
       "      <td>-160.4914</td>\n",
       "      <td>1.0</td>\n",
       "      <td>(55.3192, -160.4914)</td>\n",
       "    </tr>\n",
       "    <tr>\n",
       "      <th>...</th>\n",
       "      <td>...</td>\n",
       "      <td>...</td>\n",
       "      <td>...</td>\n",
       "      <td>...</td>\n",
       "      <td>...</td>\n",
       "      <td>...</td>\n",
       "    </tr>\n",
       "    <tr>\n",
       "      <th>41478</th>\n",
       "      <td>96558</td>\n",
       "      <td>NaN</td>\n",
       "      <td>19.7542</td>\n",
       "      <td>-155.5858</td>\n",
       "      <td>4.0</td>\n",
       "      <td>(19.7542, -155.5858)</td>\n",
       "    </tr>\n",
       "    <tr>\n",
       "      <th>41479</th>\n",
       "      <td>96598</td>\n",
       "      <td>NaN</td>\n",
       "      <td>-89.9976</td>\n",
       "      <td>139.2729</td>\n",
       "      <td>NaN</td>\n",
       "      <td>(-89.9976, 139.2729)</td>\n",
       "    </tr>\n",
       "    <tr>\n",
       "      <th>41480</th>\n",
       "      <td>96599</td>\n",
       "      <td>NaN</td>\n",
       "      <td>-77.8460</td>\n",
       "      <td>166.6760</td>\n",
       "      <td>NaN</td>\n",
       "      <td>(-77.846, 166.676)</td>\n",
       "    </tr>\n",
       "    <tr>\n",
       "      <th>41481</th>\n",
       "      <td>96860</td>\n",
       "      <td>NaN</td>\n",
       "      <td>21.3448</td>\n",
       "      <td>-157.9774</td>\n",
       "      <td>4.0</td>\n",
       "      <td>(21.3448, -157.9774)</td>\n",
       "    </tr>\n",
       "    <tr>\n",
       "      <th>41482</th>\n",
       "      <td>96863</td>\n",
       "      <td>NaN</td>\n",
       "      <td>21.4505</td>\n",
       "      <td>-157.7680</td>\n",
       "      <td>4.0</td>\n",
       "      <td>(21.4505, -157.768)</td>\n",
       "    </tr>\n",
       "  </tbody>\n",
       "</table>\n",
       "<p>41481 rows × 6 columns</p>\n",
       "</div>"
      ],
      "text/plain": [
       "       postal_code state_code  latitude  longitude  accuracy  \\\n",
       "0            99553         AK   54.1430  -165.7854       1.0   \n",
       "1            99571         AK   55.1858  -162.7211       1.0   \n",
       "2            99583         AK   54.8542  -163.4113       1.0   \n",
       "3            99612         AK   55.0628  -162.3056       1.0   \n",
       "4            99661         AK   55.3192  -160.4914       1.0   \n",
       "...            ...        ...       ...        ...       ...   \n",
       "41478        96558        NaN   19.7542  -155.5858       4.0   \n",
       "41479        96598        NaN  -89.9976   139.2729       NaN   \n",
       "41480        96599        NaN  -77.8460   166.6760       NaN   \n",
       "41481        96860        NaN   21.3448  -157.9774       4.0   \n",
       "41482        96863        NaN   21.4505  -157.7680       4.0   \n",
       "\n",
       "                      coord  \n",
       "0       (54.143, -165.7854)  \n",
       "1      (55.1858, -162.7211)  \n",
       "2      (54.8542, -163.4113)  \n",
       "3      (55.0628, -162.3056)  \n",
       "4      (55.3192, -160.4914)  \n",
       "...                     ...  \n",
       "41478  (19.7542, -155.5858)  \n",
       "41479  (-89.9976, 139.2729)  \n",
       "41480    (-77.846, 166.676)  \n",
       "41481  (21.3448, -157.9774)  \n",
       "41482   (21.4505, -157.768)  \n",
       "\n",
       "[41481 rows x 6 columns]"
      ]
     },
     "execution_count": 8,
     "metadata": {},
     "output_type": "execute_result"
    }
   ],
   "source": [
    "zip_df"
   ]
  },
  {
   "cell_type": "code",
   "execution_count": 9,
   "id": "aa647067",
   "metadata": {},
   "outputs": [
    {
     "name": "stdout",
     "output_type": "stream",
     "text": [
      "<class 'pandas.core.frame.DataFrame'>\n",
      "Int64Index: 41481 entries, 0 to 41482\n",
      "Data columns (total 6 columns):\n",
      " #   Column       Non-Null Count  Dtype  \n",
      "---  ------       --------------  -----  \n",
      " 0   postal_code  41481 non-null  int64  \n",
      " 1   state_code   40970 non-null  object \n",
      " 2   latitude     41481 non-null  float64\n",
      " 3   longitude    41481 non-null  float64\n",
      " 4   accuracy     40949 non-null  float64\n",
      " 5   coord        41481 non-null  object \n",
      "dtypes: float64(3), int64(1), object(2)\n",
      "memory usage: 2.2+ MB\n"
     ]
    }
   ],
   "source": [
    "zip_df.info()"
   ]
  },
  {
   "cell_type": "markdown",
   "id": "9fb02bfa",
   "metadata": {},
   "source": [
    "## Lookup Matrix\n",
    "\n",
    "The idea is to form a (41483,41483) matrix where the cell values are the haversize distances between two zips that are indexed. I'll save the index look up and the matrix file as json or pkl"
   ]
  },
  {
   "cell_type": "code",
   "execution_count": 10,
   "id": "cab6896b",
   "metadata": {},
   "outputs": [],
   "source": [
    "zip_df[\"mapping\"] = zip_df.index"
   ]
  },
  {
   "cell_type": "code",
   "execution_count": 11,
   "id": "d01360f8",
   "metadata": {},
   "outputs": [],
   "source": [
    "# Dictionary mapping the zipcode to index\n",
    "zip_index = dict(zip(zip_df[\"postal_code\"].astype(str),zip_df[\"mapping\"]))"
   ]
  },
  {
   "cell_type": "code",
   "execution_count": 12,
   "id": "368e440f",
   "metadata": {},
   "outputs": [
    {
     "data": {
      "text/plain": [
       "41481"
      ]
     },
     "execution_count": 12,
     "metadata": {},
     "output_type": "execute_result"
    }
   ],
   "source": [
    "len(zip_index)"
   ]
  },
  {
   "cell_type": "code",
   "execution_count": 13,
   "id": "728a16bb",
   "metadata": {},
   "outputs": [],
   "source": [
    "len_matrix = zip_df.shape[0]"
   ]
  },
  {
   "cell_type": "code",
   "execution_count": 14,
   "id": "a0584b3b",
   "metadata": {},
   "outputs": [],
   "source": [
    "zip_dist = np.zeros((len_matrix, ) * 2)"
   ]
  },
  {
   "cell_type": "code",
   "execution_count": 15,
   "id": "96fd2b5d",
   "metadata": {},
   "outputs": [
    {
     "data": {
      "text/plain": [
       "(41481, 41481)"
      ]
     },
     "execution_count": 15,
     "metadata": {},
     "output_type": "execute_result"
    }
   ],
   "source": [
    "zip_dist.shape"
   ]
  },
  {
   "cell_type": "code",
   "execution_count": 16,
   "id": "10e525f4",
   "metadata": {},
   "outputs": [],
   "source": [
    "def geodist(coord1,coord2):\n",
    "    \"\"\"\n",
    "    Calculate the distance between\n",
    "    (lat1, lon1), (lat2, lon2)\n",
    "    \"\"\"\n",
    "    # Convert to miles 1km = 0.621371 miles\n",
    "    return round(mpu.haversine_distance(coord1,coord2)*0.621371,2)"
   ]
  },
  {
   "cell_type": "code",
   "execution_count": 18,
   "id": "19b71b9d",
   "metadata": {},
   "outputs": [
    {
     "data": {
      "text/plain": [
       "10.77"
      ]
     },
     "execution_count": 18,
     "metadata": {},
     "output_type": "execute_result"
    }
   ],
   "source": [
    "geodist(zip_df.loc[345].coord,zip_df.loc[344].coord) # Testing random lat,long"
   ]
  },
  {
   "cell_type": "code",
   "execution_count": 48,
   "id": "dbc41f4b",
   "metadata": {},
   "outputs": [
    {
     "name": "stdout",
     "output_type": "stream",
     "text": [
      "CPU times: user 3 µs, sys: 1 µs, total: 4 µs\n",
      "Wall time: 5.25 µs\n"
     ]
    }
   ],
   "source": [
    "%%time\n",
    "# This didn't work since lat,long is a tuple and not 1D\n",
    "# pd.pivot_table(zip_df, values='coord', index='postal_code', columns='postal_code', aggfunc=geodist)"
   ]
  },
  {
   "cell_type": "code",
   "execution_count": 19,
   "id": "db09020b",
   "metadata": {},
   "outputs": [],
   "source": [
    "coordinates = zip_df.coord.values"
   ]
  },
  {
   "cell_type": "code",
   "execution_count": 20,
   "id": "321aaeba",
   "metadata": {},
   "outputs": [
    {
     "data": {
      "text/plain": [
       "array([(54.143, -165.7854), (55.1858, -162.7211), (54.8542, -163.4113),\n",
       "       ..., (-77.846, 166.676), (21.3448, -157.9774), (21.4505, -157.768)],\n",
       "      dtype=object)"
      ]
     },
     "execution_count": 20,
     "metadata": {},
     "output_type": "execute_result"
    }
   ],
   "source": [
    "coordinates"
   ]
  },
  {
   "cell_type": "code",
   "execution_count": 21,
   "id": "63fedd90",
   "metadata": {},
   "outputs": [],
   "source": [
    "indices = np.arange(len_matrix)"
   ]
  },
  {
   "cell_type": "code",
   "execution_count": 22,
   "id": "87c30f3c",
   "metadata": {},
   "outputs": [
    {
     "data": {
      "text/plain": [
       "array([    0,     1,     2, ..., 41478, 41479, 41480])"
      ]
     },
     "execution_count": 22,
     "metadata": {},
     "output_type": "execute_result"
    }
   ],
   "source": [
    "indices"
   ]
  },
  {
   "cell_type": "code",
   "execution_count": 135,
   "id": "4c9012f9",
   "metadata": {},
   "outputs": [
    {
     "name": "stdout",
     "output_type": "stream",
     "text": [
      "CPU times: user 19.9 s, sys: 42.6 s, total: 1min 2s\n",
      "Wall time: 1min 21s\n"
     ]
    }
   ],
   "source": [
    "%%time\n",
    "# Get upper triangular pairs \n",
    "fill_cells = np.stack(np.triu_indices(len_matrix), axis=1)"
   ]
  },
  {
   "cell_type": "code",
   "execution_count": 140,
   "id": "a0e605a5",
   "metadata": {},
   "outputs": [
    {
     "data": {
      "text/plain": [
       "860357421"
      ]
     },
     "execution_count": 140,
     "metadata": {},
     "output_type": "execute_result"
    }
   ],
   "source": [
    "len(fill_cells)"
   ]
  },
  {
   "cell_type": "code",
   "execution_count": 171,
   "id": "49c49b98",
   "metadata": {},
   "outputs": [
    {
     "name": "stdout",
     "output_type": "stream",
     "text": [
      "CPU times: user 6 µs, sys: 0 ns, total: 6 µs\n",
      "Wall time: 8.82 µs\n"
     ]
    }
   ],
   "source": [
    "%%time\n",
    "import numba as nb\n",
    "#@nb.njit(parallel=True,fastmath=True)\n",
    "def func(len_matrix):\n",
    "    zip_dist = np.zeros((len_matrix, ) * 2)\n",
    "    indices = np.arange(len_matrix)\n",
    "    # Get upper triangular pairs \n",
    "    fill_cells = np.stack(np.triu_indices(len_matrix), axis=1)\n",
    "    # Loop through upper triangular indices while avoiding diagonal element indices\n",
    "    for idx in fill_cells:\n",
    "        i,j = indices[idx]\n",
    "        if i!=j:\n",
    "            zip_dist[i][j]= zip_dist[j][i] = geodist(coordinates[i],coordinates[j])\n",
    "    return zip_dist"
   ]
  },
  {
   "cell_type": "code",
   "execution_count": 172,
   "id": "4b3b4432",
   "metadata": {},
   "outputs": [
    {
     "name": "stdout",
     "output_type": "stream",
     "text": [
      "CPU times: user 1h 46s, sys: 1min 19s, total: 1h 2min 5s\n",
      "Wall time: 1h 2min 54s\n"
     ]
    }
   ],
   "source": [
    "%%time\n",
    "zip_dist = func(len_matrix) # Takes 1hour. Unfortunately numba.jit doesn't work with user defined functions "
   ]
  },
  {
   "cell_type": "code",
   "execution_count": 173,
   "id": "bec65ac2",
   "metadata": {},
   "outputs": [
    {
     "data": {
      "text/plain": [
       "array([[   0.  ,  142.06,  107.18, ..., 9194.62, 2302.84, 2297.59],\n",
       "       [ 142.06,    0.  ,   35.67, ..., 9283.28, 2351.1 , 2344.99],\n",
       "       [ 107.18,   35.67,    0.  , ..., 9256.57, 2332.5 , 2326.58],\n",
       "       ...,\n",
       "       [9194.62, 9283.28, 9256.57, ...,    0.  , 6998.84, 7007.77],\n",
       "       [2302.84, 2351.1 , 2332.5 , ..., 6998.84,    0.  ,   15.32],\n",
       "       [2297.59, 2344.99, 2326.58, ..., 7007.77,   15.32,    0.  ]])"
      ]
     },
     "execution_count": 173,
     "metadata": {},
     "output_type": "execute_result"
    }
   ],
   "source": [
    "zip_dist"
   ]
  },
  {
   "cell_type": "code",
   "execution_count": 120,
   "id": "413dce9e",
   "metadata": {},
   "outputs": [],
   "source": [
    "def fill_lfromu(A):\n",
    "    \"\"\"\n",
    "    Fill out the symmetric values in the lower triangle based on upper\n",
    "    Not needed since it is covered in the for loop above\n",
    "    \"\"\"\n",
    "    out = A.T + A\n",
    "    np.fill_diagonal(out,0)\n",
    "    return out"
   ]
  },
  {
   "cell_type": "code",
   "execution_count": null,
   "id": "bdbb0250",
   "metadata": {},
   "outputs": [],
   "source": [
    "%%time\n",
    "# Saving the indexer \n",
    "with open(os.path.join(walk_up_folder(os.getcwd(), 3), \"Data/zips_indexer.json\"), 'w') as f:\n",
    "    json.dump(zip_index, f)\n",
    "          \n",
    "# Saving the matrix       \n",
    "np.save(os.path.join(walk_up_folder(os.getcwd(), 3), \"Data/zip_dist.npy\"), zip_dist) "
   ]
  },
  {
   "cell_type": "markdown",
   "id": "f83d6781",
   "metadata": {},
   "source": [
    "## Testing  - Verification"
   ]
  },
  {
   "cell_type": "code",
   "execution_count": 23,
   "id": "2c8428ae",
   "metadata": {},
   "outputs": [
    {
     "name": "stdout",
     "output_type": "stream",
     "text": [
      "CPU times: user 15.4 ms, sys: 10.4 s, total: 10.5 s\n",
      "Wall time: 14.7 s\n"
     ]
    }
   ],
   "source": [
    "%%time\n",
    "# Load the saved objects\n",
    "f = open(os.path.join(walk_up_folder(os.getcwd(), 3), \"Data/zips_indexer.json\"))\n",
    "test_dict = json.load(f)\n",
    "\n",
    "new_num_arr = np.load(os.path.join(walk_up_folder(os.getcwd(), 3), \"Data/zip_dist.npy\")) # load\n"
   ]
  },
  {
   "cell_type": "code",
   "execution_count": 34,
   "id": "b1ae423d",
   "metadata": {},
   "outputs": [
    {
     "data": {
      "text/plain": [
       "13765387008"
      ]
     },
     "execution_count": 34,
     "metadata": {},
     "output_type": "execute_result"
    },
    {
     "data": {
      "text/plain": [
       "(41481, 41481)"
      ]
     },
     "execution_count": 34,
     "metadata": {},
     "output_type": "execute_result"
    }
   ],
   "source": [
    "import sys\n",
    "sys.getsizeof(new_num_arr) # 13.7 GB Might need some compression\n",
    "new_num_arr.shape"
   ]
  },
  {
   "cell_type": "code",
   "execution_count": 32,
   "id": "7eac79f5",
   "metadata": {},
   "outputs": [
    {
     "data": {
      "text/html": [
       "<div>\n",
       "<style scoped>\n",
       "    .dataframe tbody tr th:only-of-type {\n",
       "        vertical-align: middle;\n",
       "    }\n",
       "\n",
       "    .dataframe tbody tr th {\n",
       "        vertical-align: top;\n",
       "    }\n",
       "\n",
       "    .dataframe thead th {\n",
       "        text-align: right;\n",
       "    }\n",
       "</style>\n",
       "<table border=\"1\" class=\"dataframe\">\n",
       "  <thead>\n",
       "    <tr style=\"text-align: right;\">\n",
       "      <th></th>\n",
       "      <th>postal_code</th>\n",
       "      <th>state_code</th>\n",
       "      <th>latitude</th>\n",
       "      <th>longitude</th>\n",
       "      <th>accuracy</th>\n",
       "      <th>coord</th>\n",
       "      <th>mapping</th>\n",
       "    </tr>\n",
       "  </thead>\n",
       "  <tbody>\n",
       "    <tr>\n",
       "      <th>4462</th>\n",
       "      <td>94085</td>\n",
       "      <td>CA</td>\n",
       "      <td>37.3886</td>\n",
       "      <td>-122.0177</td>\n",
       "      <td>4.0</td>\n",
       "      <td>(37.3886, -122.0177)</td>\n",
       "      <td>4462</td>\n",
       "    </tr>\n",
       "    <tr>\n",
       "      <th>4487</th>\n",
       "      <td>95035</td>\n",
       "      <td>CA</td>\n",
       "      <td>37.4352</td>\n",
       "      <td>-121.8950</td>\n",
       "      <td>4.0</td>\n",
       "      <td>(37.4352, -121.895)</td>\n",
       "      <td>4487</td>\n",
       "    </tr>\n",
       "  </tbody>\n",
       "</table>\n",
       "</div>"
      ],
      "text/plain": [
       "      postal_code state_code  latitude  longitude  accuracy  \\\n",
       "4462        94085         CA   37.3886  -122.0177       4.0   \n",
       "4487        95035         CA   37.4352  -121.8950       4.0   \n",
       "\n",
       "                     coord  mapping  \n",
       "4462  (37.3886, -122.0177)     4462  \n",
       "4487   (37.4352, -121.895)     4487  "
      ]
     },
     "execution_count": 32,
     "metadata": {},
     "output_type": "execute_result"
    }
   ],
   "source": [
    "# Checking 2 zipcodes i'm familiar with\n",
    "zip_df[(zip_df[\"postal_code\"]==95035)|(zip_df[\"postal_code\"]==94085)]"
   ]
  },
  {
   "cell_type": "code",
   "execution_count": 35,
   "id": "e2d204f1",
   "metadata": {},
   "outputs": [
    {
     "data": {
      "text/plain": [
       "4487"
      ]
     },
     "execution_count": 35,
     "metadata": {},
     "output_type": "execute_result"
    },
    {
     "data": {
      "text/plain": [
       "4462"
      ]
     },
     "execution_count": 35,
     "metadata": {},
     "output_type": "execute_result"
    }
   ],
   "source": [
    "# Index mapping is proper\n",
    "test_dict[\"95035\"]\n",
    "test_dict[\"94085\"]"
   ]
  },
  {
   "cell_type": "code",
   "execution_count": 36,
   "id": "e40157ec",
   "metadata": {},
   "outputs": [
    {
     "data": {
      "text/plain": [
       "7.46"
      ]
     },
     "execution_count": 36,
     "metadata": {},
     "output_type": "execute_result"
    }
   ],
   "source": [
    "geodist(zip_df.iloc[4487].coord,zip_df.iloc[4462].coord)"
   ]
  },
  {
   "cell_type": "code",
   "execution_count": 38,
   "id": "12573f24",
   "metadata": {},
   "outputs": [
    {
     "data": {
      "text/plain": [
       "7.46"
      ]
     },
     "execution_count": 38,
     "metadata": {},
     "output_type": "execute_result"
    },
    {
     "data": {
      "text/plain": [
       "7.46"
      ]
     },
     "execution_count": 38,
     "metadata": {},
     "output_type": "execute_result"
    },
    {
     "data": {
      "text/plain": [
       "0.0"
      ]
     },
     "execution_count": 38,
     "metadata": {},
     "output_type": "execute_result"
    }
   ],
   "source": [
    "new_num_arr[test_dict[\"95035\"]][test_dict[\"94085\"]]\n",
    "new_num_arr[test_dict[\"94085\"]][test_dict[\"95035\"]]\n",
    "new_num_arr[test_dict[\"95035\"]][test_dict[\"95035\"]]"
   ]
  },
  {
   "cell_type": "markdown",
   "id": "64151fc7",
   "metadata": {},
   "source": [
    "### Compressing the saved file"
   ]
  },
  {
   "cell_type": "code",
   "execution_count": 60,
   "id": "4e1e87ca",
   "metadata": {},
   "outputs": [
    {
     "name": "stdout",
     "output_type": "stream",
     "text": [
      "CPU times: user 4min 49s, sys: 44.9 s, total: 5min 34s\n",
      "Wall time: 6min 9s\n"
     ]
    }
   ],
   "source": [
    "%%time\n",
    "# Trying a compressed save\n",
    "# Also lowering the dtype from float64 to float32\n",
    "np.savez_compressed(os.path.join(walk_up_folder(os.getcwd(), 3), \"Data/zip_dist.npz\"), np.float32(new_num_arr)) "
   ]
  },
  {
   "cell_type": "code",
   "execution_count": 49,
   "id": "11d153ef",
   "metadata": {},
   "outputs": [
    {
     "data": {
      "text/plain": [
       "64"
      ]
     },
     "execution_count": 49,
     "metadata": {},
     "output_type": "execute_result"
    },
    {
     "data": {
      "text/plain": [
       "13765387008"
      ]
     },
     "execution_count": 49,
     "metadata": {},
     "output_type": "execute_result"
    }
   ],
   "source": [
    "mat1 = np.load(os.path.join(walk_up_folder(os.getcwd(), 3), \"Data/zip_dist.npz\"))\n",
    "sys.getsizeof(new_num_arr)"
   ]
  },
  {
   "cell_type": "code",
   "execution_count": 56,
   "id": "d52ba965",
   "metadata": {},
   "outputs": [
    {
     "data": {
      "text/plain": [
       "['arr_0']"
      ]
     },
     "execution_count": 56,
     "metadata": {},
     "output_type": "execute_result"
    }
   ],
   "source": [
    "mat1.files"
   ]
  },
  {
   "cell_type": "code",
   "execution_count": 57,
   "id": "8be492a6",
   "metadata": {},
   "outputs": [
    {
     "data": {
      "text/plain": [
       "13765387008"
      ]
     },
     "execution_count": 57,
     "metadata": {},
     "output_type": "execute_result"
    }
   ],
   "source": [
    "sys.getsizeof(mat1['arr_0'])"
   ]
  },
  {
   "cell_type": "code",
   "execution_count": 59,
   "id": "5ebb6f46",
   "metadata": {},
   "outputs": [
    {
     "data": {
      "text/plain": [
       "7.46"
      ]
     },
     "execution_count": 59,
     "metadata": {},
     "output_type": "execute_result"
    }
   ],
   "source": [
    "mat1['arr_0'][test_dict[\"95035\"]][test_dict[\"94085\"]]"
   ]
  },
  {
   "cell_type": "code",
   "execution_count": 54,
   "id": "4e6a49b1",
   "metadata": {},
   "outputs": [
    {
     "data": {
      "text/plain": [
       "6882693564"
      ]
     },
     "execution_count": 54,
     "metadata": {},
     "output_type": "execute_result"
    }
   ],
   "source": [
    "mat = np.float32(new_num_arr)\n",
    "sys.getsizeof(mat)"
   ]
  },
  {
   "cell_type": "code",
   "execution_count": 55,
   "id": "52d56810",
   "metadata": {},
   "outputs": [
    {
     "data": {
      "text/plain": [
       "array([[   0.  ,  142.06,  107.18, ..., 9194.62, 2302.84, 2297.59],\n",
       "       [ 142.06,    0.  ,   35.67, ..., 9283.28, 2351.1 , 2344.99],\n",
       "       [ 107.18,   35.67,    0.  , ..., 9256.57, 2332.5 , 2326.58],\n",
       "       ...,\n",
       "       [9194.62, 9283.28, 9256.57, ...,    0.  , 6998.84, 7007.77],\n",
       "       [2302.84, 2351.1 , 2332.5 , ..., 6998.84,    0.  ,   15.32],\n",
       "       [2297.59, 2344.99, 2326.58, ..., 7007.77,   15.32,    0.  ]],\n",
       "      dtype=float32)"
      ]
     },
     "execution_count": 55,
     "metadata": {},
     "output_type": "execute_result"
    }
   ],
   "source": [
    "mat"
   ]
  }
 ],
 "metadata": {
  "kernelspec": {
   "display_name": "mobius-ds",
   "language": "python",
   "name": "mobius-data-science"
  },
  "language_info": {
   "codemirror_mode": {
    "name": "ipython",
    "version": 3
   },
   "file_extension": ".py",
   "mimetype": "text/x-python",
   "name": "python",
   "nbconvert_exporter": "python",
   "pygments_lexer": "ipython3",
   "version": "3.7.11"
  }
 },
 "nbformat": 4,
 "nbformat_minor": 5
}
