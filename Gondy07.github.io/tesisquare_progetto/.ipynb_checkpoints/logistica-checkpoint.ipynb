{
 "cells": [
  {
   "cell_type": "code",
   "execution_count": 29,
   "id": "e61b6c96-94ee-4558-b127-3619440b26ec",
   "metadata": {},
   "outputs": [],
   "source": [
    "import csv\n",
    "import pandas as pd\n",
    "import requests\n",
    "from geopy.geocoders import Nominatim"
   ]
  },
  {
   "cell_type": "code",
   "execution_count": 30,
   "id": "5d4a02dc-8246-493c-8270-6ae297d9b7fb",
   "metadata": {},
   "outputs": [
    {
     "data": {
      "text/html": [
       "<div>\n",
       "<style scoped>\n",
       "    .dataframe tbody tr th:only-of-type {\n",
       "        vertical-align: middle;\n",
       "    }\n",
       "\n",
       "    .dataframe tbody tr th {\n",
       "        vertical-align: top;\n",
       "    }\n",
       "\n",
       "    .dataframe thead th {\n",
       "        text-align: right;\n",
       "    }\n",
       "</style>\n",
       "<table border=\"1\" class=\"dataframe\">\n",
       "  <thead>\n",
       "    <tr style=\"text-align: right;\">\n",
       "      <th></th>\n",
       "      <th>Unnamed: 0</th>\n",
       "      <th>SERVICETYPE</th>\n",
       "      <th>VEHICLETYPE</th>\n",
       "      <th>DEPARTURE_COUNTRY</th>\n",
       "      <th>DEPARTURE_ZIPCODE</th>\n",
       "      <th>ARRIVAL_COUNTRY</th>\n",
       "      <th>ARRIVAL_ZIPCODE</th>\n",
       "      <th>SHIPPING_DATE</th>\n",
       "      <th>GROSS_WEIGHT_KG</th>\n",
       "      <th>NET_WEIGHT_KG</th>\n",
       "      <th>VOLUME_M3</th>\n",
       "      <th>DECLARED_DISTANCE_KM</th>\n",
       "      <th>ACTUAL_DELIVERY_DATE</th>\n",
       "      <th>DELIVERY_TIME_HH</th>\n",
       "      <th>WDAY</th>\n",
       "    </tr>\n",
       "  </thead>\n",
       "  <tbody>\n",
       "    <tr>\n",
       "      <th>0</th>\n",
       "      <td>1</td>\n",
       "      <td>NaN</td>\n",
       "      <td>NaN</td>\n",
       "      <td>IT</td>\n",
       "      <td>62010.0</td>\n",
       "      <td>IT</td>\n",
       "      <td>20121</td>\n",
       "      <td>2023-01-11 00:00:14</td>\n",
       "      <td>7.30</td>\n",
       "      <td>7.00</td>\n",
       "      <td>0.0</td>\n",
       "      <td>NaN</td>\n",
       "      <td>2022-11-16 00:00:14</td>\n",
       "      <td>-1344</td>\n",
       "      <td>2</td>\n",
       "    </tr>\n",
       "    <tr>\n",
       "      <th>1</th>\n",
       "      <td>2</td>\n",
       "      <td>NaN</td>\n",
       "      <td>NaN</td>\n",
       "      <td>IT</td>\n",
       "      <td>62010.0</td>\n",
       "      <td>IT</td>\n",
       "      <td>15069</td>\n",
       "      <td>2023-01-11 00:00:14</td>\n",
       "      <td>1.70</td>\n",
       "      <td>1.40</td>\n",
       "      <td>0.0</td>\n",
       "      <td>NaN</td>\n",
       "      <td>2022-11-16 00:00:14</td>\n",
       "      <td>-1344</td>\n",
       "      <td>2</td>\n",
       "    </tr>\n",
       "    <tr>\n",
       "      <th>2</th>\n",
       "      <td>3</td>\n",
       "      <td>NaN</td>\n",
       "      <td>NaN</td>\n",
       "      <td>IT</td>\n",
       "      <td>62010.0</td>\n",
       "      <td>IT</td>\n",
       "      <td>10036</td>\n",
       "      <td>2023-01-11 00:00:14</td>\n",
       "      <td>0.72</td>\n",
       "      <td>0.42</td>\n",
       "      <td>0.0</td>\n",
       "      <td>NaN</td>\n",
       "      <td>2022-11-17 00:00:14</td>\n",
       "      <td>-1320</td>\n",
       "      <td>2</td>\n",
       "    </tr>\n",
       "    <tr>\n",
       "      <th>3</th>\n",
       "      <td>4</td>\n",
       "      <td>NaN</td>\n",
       "      <td>NaN</td>\n",
       "      <td>IT</td>\n",
       "      <td>62010.0</td>\n",
       "      <td>IT</td>\n",
       "      <td>70121</td>\n",
       "      <td>2023-01-11 00:00:14</td>\n",
       "      <td>0.86</td>\n",
       "      <td>0.56</td>\n",
       "      <td>0.0</td>\n",
       "      <td>NaN</td>\n",
       "      <td>2022-11-16 00:00:14</td>\n",
       "      <td>-1344</td>\n",
       "      <td>2</td>\n",
       "    </tr>\n",
       "    <tr>\n",
       "      <th>4</th>\n",
       "      <td>5</td>\n",
       "      <td>NaN</td>\n",
       "      <td>NaN</td>\n",
       "      <td>IT</td>\n",
       "      <td>62010.0</td>\n",
       "      <td>IT</td>\n",
       "      <td>20090</td>\n",
       "      <td>2023-01-11 00:00:14</td>\n",
       "      <td>0.58</td>\n",
       "      <td>0.28</td>\n",
       "      <td>0.0</td>\n",
       "      <td>NaN</td>\n",
       "      <td>2022-11-16 00:00:14</td>\n",
       "      <td>-1344</td>\n",
       "      <td>2</td>\n",
       "    </tr>\n",
       "  </tbody>\n",
       "</table>\n",
       "</div>"
      ],
      "text/plain": [
       "   Unnamed: 0 SERVICETYPE VEHICLETYPE DEPARTURE_COUNTRY  DEPARTURE_ZIPCODE  \\\n",
       "0           1         NaN         NaN                IT            62010.0   \n",
       "1           2         NaN         NaN                IT            62010.0   \n",
       "2           3         NaN         NaN                IT            62010.0   \n",
       "3           4         NaN         NaN                IT            62010.0   \n",
       "4           5         NaN         NaN                IT            62010.0   \n",
       "\n",
       "  ARRIVAL_COUNTRY  ARRIVAL_ZIPCODE        SHIPPING_DATE  GROSS_WEIGHT_KG  \\\n",
       "0              IT            20121  2023-01-11 00:00:14             7.30   \n",
       "1              IT            15069  2023-01-11 00:00:14             1.70   \n",
       "2              IT            10036  2023-01-11 00:00:14             0.72   \n",
       "3              IT            70121  2023-01-11 00:00:14             0.86   \n",
       "4              IT            20090  2023-01-11 00:00:14             0.58   \n",
       "\n",
       "   NET_WEIGHT_KG  VOLUME_M3  DECLARED_DISTANCE_KM ACTUAL_DELIVERY_DATE  \\\n",
       "0           7.00        0.0                   NaN  2022-11-16 00:00:14   \n",
       "1           1.40        0.0                   NaN  2022-11-16 00:00:14   \n",
       "2           0.42        0.0                   NaN  2022-11-17 00:00:14   \n",
       "3           0.56        0.0                   NaN  2022-11-16 00:00:14   \n",
       "4           0.28        0.0                   NaN  2022-11-16 00:00:14   \n",
       "\n",
       "   DELIVERY_TIME_HH  WDAY  \n",
       "0             -1344     2  \n",
       "1             -1344     2  \n",
       "2             -1320     2  \n",
       "3             -1344     2  \n",
       "4             -1344     2  "
      ]
     },
     "execution_count": 30,
     "metadata": {},
     "output_type": "execute_result"
    }
   ],
   "source": [
    "#carica dataset\n",
    "dataSet=pd.read_csv(\"delivery_data.csv\")\n",
    "\n",
    "dataSet.head()"
   ]
  },
  {
   "cell_type": "code",
   "execution_count": 108,
   "id": "98d86464-46c8-4671-9df4-36d17644e398",
   "metadata": {},
   "outputs": [],
   "source": [
    "def get_osrm_distance(coord1, coord2):\n",
    "    # Coordinate devono essere in formato (long, lat)\n",
    "    url = f\"http://router.project-osrm.org/route/v1/driving/{coord1[1]},{coord1[0]};{coord2[1]},{coord2[0]}\"\n",
    "    \n",
    "    response = requests.get(url)\n",
    "    data = response.json()\n",
    "    \n",
    "    # Distanza in metri, convertita in miglia\n",
    "    distance_km = data['routes'][0]['distance'] /1000\n",
    "    duration_seconds = data['routes'][0]['duration']\n",
    "    \n",
    "    return round(distance_km, 2), duration_seconds\n"
   ]
  },
  {
   "cell_type": "code",
   "execution_count": 101,
   "id": "d67bb0af-d03e-4e51-9752-6a0b8b077a05",
   "metadata": {},
   "outputs": [],
   "source": [
    "from geopy.geocoders import Nominatim\n",
    "from geopy.distance import geodesic\n",
    "from typing import Optional, Tuple\n",
    "\n",
    "def get_zipcode_coordinates(zipcode: str, country) -> Optional[Tuple[float, float]]:\n",
    "    try:\n",
    "        geolocator = Nominatim(user_agent=\"my_distance_calculator\")\n",
    "        location = geolocator.geocode(f\"{zipcode}, {country}\")\n",
    "       \n",
    "        if location:\n",
    "            return (location.latitude, location.longitude)\n",
    "        return None\n",
    "       \n",
    "    except Exception as e:\n",
    "        print(f\"Error getting coordinates for {zipcode}: {str(e)}\")\n",
    "        return None\n"
   ]
  },
  {
   "cell_type": "code",
   "execution_count": 109,
   "id": "b9b313a9-ef88-4453-93ec-0dc756414d04",
   "metadata": {},
   "outputs": [
    {
     "name": "stdout",
     "output_type": "stream",
     "text": [
      "95033.0\n",
      "(43.24859991851852, 13.704832418518519)\n",
      "63076\n",
      "(40.057195959210524, 17.99550312763158)\n"
     ]
    }
   ],
   "source": [
    "\n",
    "#ITA\n",
    "\n",
    "\n",
    "\n",
    "coordinataPartenza=get_zipcode_coordinates(63811, \"IT\")#(dataSet[\"DEPARTURE_ZIPCODE\"][67])\n",
    "print(dataSet[\"DEPARTURE_ZIPCODE\"][71])\n",
    "print(coordinataPartenza)\n",
    "\n",
    "coordinataArrivo=get_zipcode_coordinates(73014, \"IT\")#(dataSet[\"ARRIVAL_ZIPCODE\"][67])\n",
    "print(dataSet[\"ARRIVAL_ZIPCODE\"][71])\n",
    "print(coordinataArrivo)"
   ]
  },
  {
   "cell_type": "code",
   "execution_count": 110,
   "id": "77e19166-3125-41ad-a331-1801cdb18288",
   "metadata": {},
   "outputs": [
    {
     "name": "stdout",
     "output_type": "stream",
     "text": [
      "(605.82, 23879.4)\n"
     ]
    }
   ],
   "source": [
    "distanza=get_osrm_distance(coordinataPartenza, coordinataArrivo)#62010    20121\n",
    "print(distanza)"
   ]
  },
  {
   "cell_type": "code",
   "execution_count": 111,
   "id": "cb1971fb-c249-4da9-9a2d-9bf607f05462",
   "metadata": {},
   "outputs": [
    {
     "name": "stdout",
     "output_type": "stream",
     "text": [
      "95033.0\n",
      "(40.76602690929853, -73.96466868433932)\n",
      "63076\n",
      "(25.720867005183987, -80.27201400009257)\n"
     ]
    }
   ],
   "source": [
    "\n",
    "#USA\n",
    "\n",
    "\n",
    "coordinataPartenza=get_zipcode_coordinates(10065, \"US\")#(dataSet[\"DEPARTURE_ZIPCODE\"][67])\n",
    "print(dataSet[\"DEPARTURE_ZIPCODE\"][71])\n",
    "print(coordinataPartenza)\n",
    "\n",
    "coordinataArrivo=get_zipcode_coordinates(33146, \"US\")#(dataSet[\"ARRIVAL_ZIPCODE\"][67])\n",
    "print(dataSet[\"ARRIVAL_ZIPCODE\"][71])\n",
    "print(coordinataArrivo)"
   ]
  },
  {
   "cell_type": "code",
   "execution_count": 105,
   "id": "99ab8a91-2884-46af-a808-b831a489d86d",
   "metadata": {},
   "outputs": [
    {
     "name": "stdout",
     "output_type": "stream",
     "text": [
      "(2074.04, 87444.1)\n"
     ]
    }
   ],
   "source": [
    "distanza=get_osrm_distance(coordinataPartenza, coordinataArrivo)#62010    20121\n",
    "print(distanza)"
   ]
  },
  {
   "cell_type": "code",
   "execution_count": null,
   "id": "078c577d-13ed-455a-b3f1-61d3c1386b07",
   "metadata": {},
   "outputs": [],
   "source": []
  }
 ],
 "metadata": {
  "kernelspec": {
   "display_name": "Python 3 (ipykernel)",
   "language": "python",
   "name": "python3"
  },
  "language_info": {
   "codemirror_mode": {
    "name": "ipython",
    "version": 3
   },
   "file_extension": ".py",
   "mimetype": "text/x-python",
   "name": "python",
   "nbconvert_exporter": "python",
   "pygments_lexer": "ipython3",
   "version": "3.12.7"
  }
 },
 "nbformat": 4,
 "nbformat_minor": 5
}
